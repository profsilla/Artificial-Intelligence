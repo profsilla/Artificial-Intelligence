{
 "cells": [
  {
   "cell_type": "code",
   "execution_count": 1,
   "metadata": {},
   "outputs": [],
   "source": [
    "import tensorflow as tf\n",
    "from tensorflow import keras\n",
    "import numpy as np\n",
    "import matplotlib.pyplot as plt"
   ]
  },
  {
   "cell_type": "code",
   "execution_count": 2,
   "metadata": {},
   "outputs": [],
   "source": [
    "data = keras.datasets.fashion_mnist\n"
   ]
  },
  {
   "cell_type": "code",
   "execution_count": 3,
   "metadata": {},
   "outputs": [],
   "source": [
    "(train_images, train_labels),(test_images, test_labels) = data.load_data()\n",
    "\n",
    "class_names = ['T-shirt/top','Trouser', 'Pullover', 'Dress', 'Coat', 'Sandal', 'Shirt', \n",
    "               'Sneaker', 'Bag', ' Ankle boot']"
   ]
  },
  {
   "cell_type": "code",
   "execution_count": 4,
   "metadata": {},
   "outputs": [
    {
     "name": "stdout",
     "output_type": "stream",
     "text": [
      "28\n"
     ]
    }
   ],
   "source": [
    "train_images = train_images/255.0\n",
    "test_images = test_images/255.0\n",
    "# plt.imshow(train_images[6], cmap=plt.cm.binary)\n",
    "# plt.show()\n",
    "print(len(train_images[1]))"
   ]
  },
  {
   "cell_type": "code",
   "execution_count": 9,
   "metadata": {},
   "outputs": [
    {
     "name": "stdout",
     "output_type": "stream",
     "text": [
      "Epoch 1/20\n",
      "60000/60000 [==============================] - 52s 868us/sample - loss: 0.4989 - acc: 0.8178 ETA: 3s - l - ETA: 1s - lo\n",
      "Epoch 2/20\n",
      "60000/60000 [==============================] - 52s 867us/sample - loss: 0.3719 - acc: 0.8621s\n",
      "Epoch 3/20\n",
      "60000/60000 [==============================] - 52s 874us/sample - loss: 0.3362 - acc: 0.8759\n",
      "Epoch 4/20\n",
      "60000/60000 [==============================] - 56s 941us/sample - loss: 0.3156 - acc: 0.8843\n",
      "Epoch 5/20\n",
      "60000/60000 [==============================] - 54s 900us/sample - loss: 0.2983 - acc: 0.8883 \n",
      "Epoch 6/20\n",
      "60000/60000 [==============================] - 53s 889us/sample - loss: 0.2811 - acc: 0.8945\n",
      "Epoch 7/20\n",
      "60000/60000 [==============================] - 54s 907us/sample - loss: 0.2719 - acc: 0.8978\n",
      "Epoch 8/20\n",
      "60000/60000 [==============================] - 56s 925us/sample - loss: 0.2587 - acc: 0.9034\n",
      "Epoch 9/20\n",
      "60000/60000 [==============================] - 54s 899us/sample - loss: 0.2509 - acc: 0.9045\n",
      "Epoch 10/20\n",
      "60000/60000 [==============================] - 54s 896us/sample - loss: 0.2422 - acc: 0.9097 - loss: \n",
      "Epoch 11/20\n",
      "60000/60000 [==============================] - 55s 923us/sample - loss: 0.2350 - acc: 0.9108\n",
      "Epoch 12/20\n",
      "60000/60000 [==============================] - 55s 912us/sample - loss: 0.2288 - acc: 0.9136\n",
      "Epoch 13/20\n",
      "60000/60000 [==============================] - 55s 910us/sample - loss: 0.2233 - acc: 0.9155\n",
      "Epoch 14/20\n",
      "60000/60000 [==============================] - 54s 906us/sample - loss: 0.2158 - acc: 0.9177\n",
      "Epoch 15/20\n",
      "60000/60000 [==============================] - 55s 920us/sample - loss: 0.2099 - acc: 0.9198\n",
      "Epoch 16/20\n",
      "60000/60000 [==============================] - 60s 1000us/sample - loss: 0.2052 - acc: 0.9207  - ETA: 1s - loss: 0.2054 - acc: 0. - ETA: 1s - lo\n",
      "Epoch 17/20\n",
      "60000/60000 [==============================] - 53s 891us/sample - loss: 0.2022 - acc: 0.9223\n",
      "Epoch 18/20\n",
      "60000/60000 [==============================] - 56s 938us/sample - loss: 0.1947 - acc: 0.9242\n",
      "Epoch 19/20\n",
      "60000/60000 [==============================] - 56s 937us/sample - loss: 0.1911 - acc: 0.9261\n",
      "Epoch 20/20\n",
      "60000/60000 [==============================] - 56s 941us/sample - loss: 0.1887 - acc: 0.9277\n",
      "10000/10000 [==============================] - 5s 469us/sample - loss: 0.3653 - acc: 0.8915s - loss: 0.3717 - acc - ETA: 1s -\n",
      "Tested accuray:  0.8915 0.3652587077140808\n"
     ]
    }
   ],
   "source": [
    "model = keras.Sequential([\n",
    "    keras.layers.Flatten(input_shape = (28,28)),\n",
    "    keras.layers.Dense(128, activation ='relu'),\n",
    "    keras.layers.Dense(128, activation ='relu'),\n",
    "    keras.layers.Dense(128, activation ='relu'),\n",
    "    keras.layers.Dense(128, activation ='relu'),\n",
    "    keras.layers.Dense(10, activation = 'softmax')\n",
    "    ])\n",
    "\n",
    "model.compile(optimizer = 'adam', loss = 'sparse_categorical_crossentropy', metrics = ['accuracy'])\n",
    "model.fit(train_images, train_labels, epochs=20)\n",
    "\n",
    "test_loss, test_acc = model.evaluate(test_images, test_labels)\n",
    "print('Tested accuray: ', test_acc, test_loss)"
   ]
  },
  {
   "cell_type": "code",
   "execution_count": null,
   "metadata": {},
   "outputs": [],
   "source": []
  }
 ],
 "metadata": {
  "kernelspec": {
   "display_name": "Python 3",
   "language": "python",
   "name": "python3"
  },
  "language_info": {
   "codemirror_mode": {
    "name": "ipython",
    "version": 3
   },
   "file_extension": ".py",
   "mimetype": "text/x-python",
   "name": "python",
   "nbconvert_exporter": "python",
   "pygments_lexer": "ipython3",
   "version": "3.7.3"
  }
 },
 "nbformat": 4,
 "nbformat_minor": 2
}
