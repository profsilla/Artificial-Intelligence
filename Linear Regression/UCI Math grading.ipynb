{
 "cells": [
  {
   "cell_type": "code",
   "execution_count": 39,
   "metadata": {},
   "outputs": [],
   "source": [
    "import pandas as pd\n",
    "import numpy as np\n",
    "import sklearn\n",
    "from sklearn import linear_model\n",
    "import matplotlib.pyplot as pyplot\n",
    "import pickle\n",
    "from matplotlib import style\n",
    "from sklearn.utils import shuffle"
   ]
  },
  {
   "cell_type": "code",
   "execution_count": 40,
   "metadata": {},
   "outputs": [],
   "source": [
    "data = pd.read_csv(\"../student-mat.csv\", sep=\";\")\n"
   ]
  },
  {
   "cell_type": "code",
   "execution_count": 41,
   "metadata": {},
   "outputs": [],
   "source": [
    "data = data[[\"G1\",\"G2\",\"G3\",\"studytime\",\"failures\",\"absences\"]]\n",
    "# print(data)"
   ]
  },
  {
   "cell_type": "code",
   "execution_count": 42,
   "metadata": {},
   "outputs": [],
   "source": [
    "predict = \"G3\"\n",
    "\n",
    "x = np.array(data.drop([predict], axis=1))\n",
    "y = np.array(data[predict])\n",
    "# print(x) "
   ]
  },
  {
   "cell_type": "code",
   "execution_count": 43,
   "metadata": {},
   "outputs": [],
   "source": [
    "# x_train, x_test, y_train, y_test = sklearn.model_selection.train_test_split(x,y, test_size = 0.1)"
   ]
  },
  {
   "cell_type": "code",
   "execution_count": 44,
   "metadata": {},
   "outputs": [],
   "source": [
    "# linear = linear_model.LinearRegression()\n",
    "# x_test[0]"
   ]
  },
  {
   "cell_type": "code",
   "execution_count": null,
   "metadata": {},
   "outputs": [],
   "source": [
    "best = 0.98\n",
    "counter = 0\n",
    "while True:\n",
    "    x_train, x_test, y_train, y_test = sklearn.model_selection.train_test_split(x,y, test_size = 0.1)\n",
    "    linear = linear_model.LinearRegression()\n",
    "    linear.fit(x_train, y_train)\n",
    "    acc = linear.score(x_test, y_test)\n",
    "#     print(acc)\n",
    "    counter +=1\n",
    "    if acc >= best:\n",
    "        \n",
    "        print('Best:',best)\n",
    "        with open('stu_pickle.pickle','wb') as f:\n",
    "            pickle.dump(linear,f)\n",
    "        break\n",
    "print(counter)"
   ]
  },
  {
   "cell_type": "code",
   "execution_count": 29,
   "metadata": {},
   "outputs": [],
   "source": [
    "pickle_in = open('stu_pickle.pickle', 'rb')\n",
    "linear = pickle.load(pickle_in)\n",
    "\n",
    "\n"
   ]
  },
  {
   "cell_type": "code",
   "execution_count": 30,
   "metadata": {},
   "outputs": [
    {
     "name": "stdout",
     "output_type": "stream",
     "text": [
      "[ 0.15952187  0.97990417 -0.20695857 -0.19457913  0.03567811]\n"
     ]
    }
   ],
   "source": [
    "print(linear.coef_)"
   ]
  },
  {
   "cell_type": "code",
   "execution_count": 31,
   "metadata": {},
   "outputs": [
    {
     "name": "stdout",
     "output_type": "stream",
     "text": [
      "-1.5562533805150895\n"
     ]
    }
   ],
   "source": [
    "print(linear.intercept_)"
   ]
  },
  {
   "cell_type": "code",
   "execution_count": 16,
   "metadata": {},
   "outputs": [
    {
     "name": "stdout",
     "output_type": "stream",
     "text": [
      "6.711989774696995 [ 6  8  1  3 16] 8\n",
      "5.627018905311134 [7 7 2 2 4] 9\n",
      "10.653889107258188 [11 11  2  0  2] 11\n",
      "9.202969909361439 [ 9  9  1  0 22] 9\n",
      "14.962049328514034 [14 15  3  0  4] 16\n",
      "11.222581084958705 [ 9 12  3  0  3] 11\n",
      "18.547518986350138 [18 18  3  0  5] 19\n",
      "15.804894762255557 [14 16  3  0  0] 16\n",
      "6.834801675135736 [9 8 1 3 6] 10\n",
      "10.21014372285771 [ 9 11  3  0  2] 11\n",
      "5.920159204084619 [7 7 4 0 4] 6\n",
      "12.7357039961048 [11 13  1  1 10] 13\n",
      "8.203519371412925 [10  9  4  0  0] 0\n",
      "9.182038347842026 [10 10  4  0  0] 10\n",
      "9.38554866187339 [10 10  4  0  6] 11\n",
      "15.199627368766187 [14 15  1  0  3] 16\n",
      "5.823742265948107 [ 7  6  1  0 18] 6\n",
      "-0.5039039490013613 [8 0 1 0 0] 0\n",
      "10.721725878601976 [11 11  2  0  4] 11\n",
      "10.653889107258188 [11 11  2  0  2] 10\n",
      "5.382803252213483 [7 6 1 0 5] 7\n",
      "5.36302558599402 [8 7 2 3 0] 0\n",
      "11.90375516906244 [11 12  2  0 10] 13\n",
      "9.30934713204375 [ 8  9  1  1 38] 8\n",
      "15.097797541476059 [14 15  2  0  4] 15\n",
      "9.964967588961445 [12 10  3  0 10] 12\n",
      "10.586052335914399 [11 11  2  0  0] 10\n",
      "8.660275738611132 [9 9 1 0 6] 10\n",
      "-0.3316549905249293 [10  0  2  0  0] 0\n",
      "8.16347578525739 [9 9 1 2 8] 9\n",
      "7.681682091907586 [ 9  8  2  0 10] 8\n",
      "16.402638732375262 [17 16  2  0  0] 16\n",
      "11.940330584851296 [13 12  3  0  6] 12\n",
      "11.794327248128198 [14 11  1  0 18] 13\n",
      "5.08208517655862 [ 6  6  2  1 13] 8\n",
      "-0.947649333401839 [6 0 2 0 0] 0\n",
      "17.822096722538987 [17 17  2  0 13] 17\n",
      "12.986835673173077 [13 13  1  0  0] 12\n",
      "12.475104176879919 [11 13  4  0  6] 14\n",
      "7.256336420813206 [8 8 2 0 2] 8\n",
      "[ 6  8  1  3 16]\n"
     ]
    }
   ],
   "source": [
    "predictions = linear.predict(x_test)\n",
    "for x in range(len(predictions)):\n",
    "    print(f\"{predictions[x]} {x_test[x]} {y_test[x]}\")\n",
    "\n",
    "print(x_test[0])   "
   ]
  },
  {
   "cell_type": "code",
   "execution_count": null,
   "metadata": {},
   "outputs": [],
   "source": [
    "p = 'G1'\n",
    "style.use('ggplot')\n",
    "pyplot.scatter(data[p], data[predict])\n",
    "pyplot.xlabel(p)\n",
    "pyplot.ylabel(\"Final Grade\")\n",
    "\n",
    "pyplot.show()"
   ]
  },
  {
   "cell_type": "code",
   "execution_count": null,
   "metadata": {},
   "outputs": [],
   "source": []
  }
 ],
 "metadata": {
  "kernelspec": {
   "display_name": "Python 3",
   "language": "python",
   "name": "python3"
  },
  "language_info": {
   "codemirror_mode": {
    "name": "ipython",
    "version": 3
   },
   "file_extension": ".py",
   "mimetype": "text/x-python",
   "name": "python",
   "nbconvert_exporter": "python",
   "pygments_lexer": "ipython3",
   "version": "3.7.3"
  }
 },
 "nbformat": 4,
 "nbformat_minor": 2
}
